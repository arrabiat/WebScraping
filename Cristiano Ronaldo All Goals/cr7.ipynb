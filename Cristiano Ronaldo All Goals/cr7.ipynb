{
 "cells": [
  {
   "cell_type": "markdown",
   "id": "d19e8b20",
   "metadata": {},
   "source": [
    "# Instalamos librerias necesarias"
   ]
  },
  {
   "cell_type": "code",
   "execution_count": null,
   "id": "123cd199",
   "metadata": {},
   "outputs": [],
   "source": [
    "import requests"
   ]
  },
  {
   "cell_type": "code",
   "execution_count": null,
   "id": "155685eb",
   "metadata": {},
   "outputs": [],
   "source": [
    "url = \"https://www.messivsronaldo.app/match-histories/ronaldo-match-history/\" # ¡Cambia esto por la URL real!\n",
    "\n",
    "try:\n",
    "    response = requests.get(url)\n",
    "    response.raise_for_status()  # Lanza una excepción para códigos de estado de error (4xx o 5xx)\n",
    "    html_content = response.text\n",
    "except requests.exceptions.RequestException as e:\n",
    "    print(f\"Error al obtener la página: {e}\")\n",
    "    html_content = None"
   ]
  },
  {
   "cell_type": "code",
   "execution_count": null,
   "id": "4456ca59",
   "metadata": {},
   "outputs": [],
   "source": []
  }
 ],
 "metadata": {
  "kernelspec": {
   "display_name": ".venv",
   "language": "python",
   "name": "python3"
  },
  "language_info": {
   "codemirror_mode": {
    "name": "ipython",
    "version": 3
   },
   "file_extension": ".py",
   "mimetype": "text/x-python",
   "name": "python",
   "nbconvert_exporter": "python",
   "pygments_lexer": "ipython3",
   "version": "3.12.10"
  }
 },
 "nbformat": 4,
 "nbformat_minor": 5
}
