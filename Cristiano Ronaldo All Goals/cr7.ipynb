{
 "cells": [
  {
   "cell_type": "markdown",
   "id": "d19e8b20",
   "metadata": {},
   "source": [
    "# Importamos librerias necesarias"
   ]
  },
  {
   "cell_type": "code",
   "execution_count": 17,
   "id": "123cd199",
   "metadata": {},
   "outputs": [],
   "source": [
    "import requests\n",
    "from bs4 import BeautifulSoup\n",
    "from lxml import html\n",
    "import re\n",
    "from GoalData import Goal\n",
    "import pandas as pd"
   ]
  },
  {
   "cell_type": "markdown",
   "id": "762374e0",
   "metadata": {},
   "source": [
    "### Realizamos nuestra peticion para obtener la data"
   ]
  },
  {
   "cell_type": "code",
   "execution_count": 18,
   "id": "155685eb",
   "metadata": {},
   "outputs": [],
   "source": [
    "url = \"https://www.messivsronaldo.app/match-histories/ronaldo-match-history/\"\n",
    "\n",
    "try:\n",
    "    response = requests.get(url)\n",
    "    response.raise_for_status()\n",
    "    html_content = response.text\n",
    "except requests.exceptions.RequestException as e:\n",
    "    print(f\"Error al obtener la página: {e}\")\n",
    "    html_content = None"
   ]
  },
  {
   "cell_type": "markdown",
   "id": "1aa764da",
   "metadata": {},
   "source": [
    "### Parseamos nuestro documento"
   ]
  },
  {
   "cell_type": "code",
   "execution_count": 19,
   "id": "09dd7798",
   "metadata": {},
   "outputs": [],
   "source": [
    "tree = html.fromstring(html_content)"
   ]
  },
  {
   "cell_type": "markdown",
   "id": "b8ac9293",
   "metadata": {},
   "source": [
    "### Realizamos nuestra consulta de datos con xPath"
   ]
  },
  {
   "cell_type": "code",
   "execution_count": 20,
   "id": "770f58f8",
   "metadata": {},
   "outputs": [],
   "source": [
    "fechas = tree.xpath('//div[@class=\"mb-3 text-sm text-slate-200 relative lg:flex lg:flex-wrap\"]/div[@class=\"MatchHistory-module--metaWrap--aba5a flex lg:flex-wrap lg:content-start text-xs w-full lg:w-2/5 lg:order-1 text-slate-400/75 py-1 px-2 rounded-t gap-x-2 row-gap-1\"]/span[1]')"
   ]
  },
  {
   "cell_type": "code",
   "execution_count": 21,
   "id": "80356c30",
   "metadata": {},
   "outputs": [],
   "source": [
    "competiciones = tree.xpath('//div[@class=\"mb-3 text-sm text-slate-200 relative lg:flex lg:flex-wrap\"]/div[@class=\"MatchHistory-module--metaWrap--aba5a flex lg:flex-wrap lg:content-start text-xs w-full lg:w-2/5 lg:order-1 text-slate-400/75 py-1 px-2 rounded-t gap-x-2 row-gap-1\"]/span[2]')"
   ]
  },
  {
   "cell_type": "code",
   "execution_count": 22,
   "id": "15bd8579",
   "metadata": {},
   "outputs": [],
   "source": [
    "visita_local = tree.xpath('//div[@class=\"mb-3 text-sm text-slate-200 relative lg:flex lg:flex-wrap\"]/div[@class=\"MatchHistory-module--metaWrap--aba5a flex lg:flex-wrap lg:content-start text-xs w-full lg:w-2/5 lg:order-1 text-slate-400/75 py-1 px-2 rounded-t gap-x-2 row-gap-1\"]/span[contains(., \"(H)\") or contains(., \"(A)\") or contains(., \"(N)\")]')"
   ]
  },
  {
   "cell_type": "code",
   "execution_count": 23,
   "id": "463999a0",
   "metadata": {},
   "outputs": [],
   "source": [
    "partidos = tree.xpath('//div[@class=\"mb-3 text-sm text-slate-200 relative lg:flex lg:flex-wrap\"]/div/button/div[@class=\"flex flex-wrap text-sm w-2/5 leading-tight\"]')"
   ]
  },
  {
   "cell_type": "code",
   "execution_count": 24,
   "id": "d3f2d8a0",
   "metadata": {},
   "outputs": [
    {
     "name": "stdout",
     "output_type": "stream",
     "text": [
      "1281\n"
     ]
    }
   ],
   "source": [
    "print(len(partidos))\n",
    "re_partidos = list()\n",
    "for partido in partidos:\n",
    "    re_partidos.append(re.split(r'(?=\\d{1,})|(?<=\\d)', partido.text_content()))"
   ]
  },
  {
   "cell_type": "code",
   "execution_count": 25,
   "id": "77e0efae",
   "metadata": {},
   "outputs": [],
   "source": [
    "goles = tree.xpath('//div[contains(@title, \"Goals\")]')"
   ]
  },
  {
   "cell_type": "code",
   "execution_count": 26,
   "id": "5fccb7d9",
   "metadata": {},
   "outputs": [],
   "source": [
    "asistencias = tree.xpath('//div[contains(@title, \"Assists\")]')"
   ]
  },
  {
   "cell_type": "code",
   "execution_count": 27,
   "id": "641c1aaf",
   "metadata": {},
   "outputs": [],
   "source": [
    "minutos_jugados = tree.xpath('//span[contains(@title, \"minutes\")]')"
   ]
  },
  {
   "cell_type": "markdown",
   "id": "8e3f00ff",
   "metadata": {},
   "source": [
    "### Creamos un array de Goles de la clase Goal"
   ]
  },
  {
   "cell_type": "code",
   "execution_count": 28,
   "id": "5da8e126",
   "metadata": {},
   "outputs": [],
   "source": [
    "goals = list()\n",
    "for i in range(len(fechas)):\n",
    "    goals.append(Goal(fechas[i].text_content(),\n",
    "                    competicion = competiciones[i].text_content(),\n",
    "                    visita_local = visita_local[i].text_content().replace(')','').replace('(',''),\n",
    "                    equipo_local = re_partidos[i][0],\n",
    "                    equipo_visitante = re_partidos[i][2],\n",
    "                    marcador_local = re_partidos[i][1],\n",
    "                    marcador_visitante = re_partidos[i][3],\n",
    "                    goles_anotados = goles[i].text_content(),\n",
    "                    asistencias = asistencias[i].text_content(),\n",
    "                    minutos_jugados = minutos_jugados[i].text_content()))"
   ]
  },
  {
   "cell_type": "markdown",
   "id": "b7930e06",
   "metadata": {},
   "source": [
    "### Creamos DataFrame de Pandas"
   ]
  },
  {
   "cell_type": "code",
   "execution_count": 29,
   "id": "26475609",
   "metadata": {},
   "outputs": [],
   "source": [
    "goles = [goal.to_dict() for goal in goals]"
   ]
  },
  {
   "cell_type": "code",
   "execution_count": 30,
   "id": "beafb720",
   "metadata": {},
   "outputs": [],
   "source": [
    "goles_df = pd.DataFrame(goles)"
   ]
  },
  {
   "cell_type": "code",
   "execution_count": 32,
   "id": "f87662d3",
   "metadata": {},
   "outputs": [
    {
     "data": {
      "text/html": [
       "<div>\n",
       "<style scoped>\n",
       "    .dataframe tbody tr th:only-of-type {\n",
       "        vertical-align: middle;\n",
       "    }\n",
       "\n",
       "    .dataframe tbody tr th {\n",
       "        vertical-align: top;\n",
       "    }\n",
       "\n",
       "    .dataframe thead th {\n",
       "        text-align: right;\n",
       "    }\n",
       "</style>\n",
       "<table border=\"1\" class=\"dataframe\">\n",
       "  <thead>\n",
       "    <tr style=\"text-align: right;\">\n",
       "      <th></th>\n",
       "      <th>dia</th>\n",
       "      <th>competicion</th>\n",
       "      <th>visita_local</th>\n",
       "      <th>equipo_local</th>\n",
       "      <th>equipo_visitante</th>\n",
       "      <th>marcador_local</th>\n",
       "      <th>marcador_visitante</th>\n",
       "      <th>goles_anotados</th>\n",
       "      <th>asistencias</th>\n",
       "      <th>minutos_jugados</th>\n",
       "    </tr>\n",
       "  </thead>\n",
       "  <tbody>\n",
       "    <tr>\n",
       "      <th>0</th>\n",
       "      <td>08/06/2025</td>\n",
       "      <td>Nations League</td>\n",
       "      <td>N</td>\n",
       "      <td>Portugal</td>\n",
       "      <td>Spain</td>\n",
       "      <td>2</td>\n",
       "      <td>2</td>\n",
       "      <td>1</td>\n",
       "      <td>0</td>\n",
       "      <td>88' mins played</td>\n",
       "    </tr>\n",
       "    <tr>\n",
       "      <th>1</th>\n",
       "      <td>04/06/2025</td>\n",
       "      <td>Nations League</td>\n",
       "      <td>A</td>\n",
       "      <td>Germany</td>\n",
       "      <td>Portugal</td>\n",
       "      <td>1</td>\n",
       "      <td>2</td>\n",
       "      <td>1</td>\n",
       "      <td>0</td>\n",
       "      <td>89' mins played</td>\n",
       "    </tr>\n",
       "    <tr>\n",
       "      <th>2</th>\n",
       "      <td>26/05/2025</td>\n",
       "      <td>Saudi Pro League</td>\n",
       "      <td>A</td>\n",
       "      <td>Al Fateh</td>\n",
       "      <td>Al Nassr</td>\n",
       "      <td>3</td>\n",
       "      <td>2</td>\n",
       "      <td>1</td>\n",
       "      <td>0</td>\n",
       "      <td>90' mins played</td>\n",
       "    </tr>\n",
       "    <tr>\n",
       "      <th>3</th>\n",
       "      <td>21/05/2025</td>\n",
       "      <td>Saudi Pro League</td>\n",
       "      <td>H</td>\n",
       "      <td>Al Nassr</td>\n",
       "      <td>Al-Khaleej</td>\n",
       "      <td>2</td>\n",
       "      <td>0</td>\n",
       "      <td>1</td>\n",
       "      <td>0</td>\n",
       "      <td>90' mins played</td>\n",
       "    </tr>\n",
       "    <tr>\n",
       "      <th>4</th>\n",
       "      <td>07/05/2025</td>\n",
       "      <td>Saudi Pro League</td>\n",
       "      <td>H</td>\n",
       "      <td>Al Nassr</td>\n",
       "      <td>Al-Ittihad</td>\n",
       "      <td>2</td>\n",
       "      <td>3</td>\n",
       "      <td>0</td>\n",
       "      <td>0</td>\n",
       "      <td>90' mins played</td>\n",
       "    </tr>\n",
       "  </tbody>\n",
       "</table>\n",
       "</div>"
      ],
      "text/plain": [
       "          dia       competicion visita_local equipo_local equipo_visitante  \\\n",
       "0  08/06/2025    Nations League            N     Portugal            Spain   \n",
       "1  04/06/2025    Nations League            A      Germany         Portugal   \n",
       "2  26/05/2025  Saudi Pro League            A     Al Fateh         Al Nassr   \n",
       "3  21/05/2025  Saudi Pro League            H     Al Nassr       Al-Khaleej   \n",
       "4  07/05/2025  Saudi Pro League            H     Al Nassr       Al-Ittihad   \n",
       "\n",
       "  marcador_local marcador_visitante goles_anotados asistencias  \\\n",
       "0              2                  2              1           0   \n",
       "1              1                  2              1           0   \n",
       "2              3                  2              1           0   \n",
       "3              2                  0              1           0   \n",
       "4              2                  3              0           0   \n",
       "\n",
       "   minutos_jugados  \n",
       "0  88' mins played  \n",
       "1  89' mins played  \n",
       "2  90' mins played  \n",
       "3  90' mins played  \n",
       "4  90' mins played  "
      ]
     },
     "execution_count": 32,
     "metadata": {},
     "output_type": "execute_result"
    }
   ],
   "source": [
    "goles_df.head(5)"
   ]
  }
 ],
 "metadata": {
  "kernelspec": {
   "display_name": ".venv",
   "language": "python",
   "name": "python3"
  },
  "language_info": {
   "codemirror_mode": {
    "name": "ipython",
    "version": 3
   },
   "file_extension": ".py",
   "mimetype": "text/x-python",
   "name": "python",
   "nbconvert_exporter": "python",
   "pygments_lexer": "ipython3",
   "version": "3.12.10"
  }
 },
 "nbformat": 4,
 "nbformat_minor": 5
}
