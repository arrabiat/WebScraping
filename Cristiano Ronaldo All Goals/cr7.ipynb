{
 "cells": [
  {
   "cell_type": "markdown",
   "id": "d19e8b20",
   "metadata": {},
   "source": [
    "# Importamos librerias necesarias"
   ]
  },
  {
   "cell_type": "code",
   "execution_count": 1,
   "id": "123cd199",
   "metadata": {},
   "outputs": [],
   "source": [
    "import requests\n",
    "from bs4 import BeautifulSoup\n",
    "from lxml import html\n",
    "import re\n",
    "from GoalData import Goal\n",
    "import pandas as pd"
   ]
  },
  {
   "cell_type": "markdown",
   "id": "762374e0",
   "metadata": {},
   "source": [
    "### Realizamos nuestra peticion para obtener la data"
   ]
  },
  {
   "cell_type": "code",
   "execution_count": 2,
   "id": "155685eb",
   "metadata": {},
   "outputs": [],
   "source": [
    "url = \"https://www.messivsronaldo.app/match-histories/ronaldo-match-history/\"\n",
    "\n",
    "try:\n",
    "    response = requests.get(url)\n",
    "    response.raise_for_status()\n",
    "    html_content = response.text\n",
    "except requests.exceptions.RequestException as e:\n",
    "    print(f\"Error al obtener la página: {e}\")\n",
    "    html_content = None"
   ]
  },
  {
   "cell_type": "markdown",
   "id": "1aa764da",
   "metadata": {},
   "source": [
    "### Parseamos nuestro documento"
   ]
  },
  {
   "cell_type": "code",
   "execution_count": 3,
   "id": "09dd7798",
   "metadata": {},
   "outputs": [],
   "source": [
    "tree = html.fromstring(html_content)"
   ]
  },
  {
   "cell_type": "markdown",
   "id": "b8ac9293",
   "metadata": {},
   "source": [
    "### Realizamos nuestra consulta de datos con xPath"
   ]
  },
  {
   "cell_type": "code",
   "execution_count": 4,
   "id": "770f58f8",
   "metadata": {},
   "outputs": [],
   "source": [
    "fechas = tree.xpath('//div[@class=\"mb-3 text-sm text-slate-200 relative lg:flex lg:flex-wrap\"]/div[@class=\"MatchHistory-module--metaWrap--aba5a flex lg:flex-wrap lg:content-start text-xs w-full lg:w-2/5 lg:order-1 text-slate-400/75 py-1 px-2 rounded-t gap-x-2 row-gap-1\"]/span[1]')"
   ]
  },
  {
   "cell_type": "code",
   "execution_count": 5,
   "id": "80356c30",
   "metadata": {},
   "outputs": [],
   "source": [
    "competiciones = tree.xpath('//div[@class=\"mb-3 text-sm text-slate-200 relative lg:flex lg:flex-wrap\"]/div[@class=\"MatchHistory-module--metaWrap--aba5a flex lg:flex-wrap lg:content-start text-xs w-full lg:w-2/5 lg:order-1 text-slate-400/75 py-1 px-2 rounded-t gap-x-2 row-gap-1\"]/span[2]')"
   ]
  },
  {
   "cell_type": "code",
   "execution_count": 6,
   "id": "15bd8579",
   "metadata": {},
   "outputs": [],
   "source": [
    "visita_local = tree.xpath('//div[@class=\"mb-3 text-sm text-slate-200 relative lg:flex lg:flex-wrap\"]/div[@class=\"MatchHistory-module--metaWrap--aba5a flex lg:flex-wrap lg:content-start text-xs w-full lg:w-2/5 lg:order-1 text-slate-400/75 py-1 px-2 rounded-t gap-x-2 row-gap-1\"]/span[contains(., \"(H)\") or contains(., \"(A)\") or contains(., \"(N)\")]')"
   ]
  },
  {
   "cell_type": "code",
   "execution_count": 7,
   "id": "463999a0",
   "metadata": {},
   "outputs": [],
   "source": [
    "partidos = tree.xpath('//div[@class=\"mb-3 text-sm text-slate-200 relative lg:flex lg:flex-wrap\"]/div/button/div[@class=\"flex flex-wrap text-sm w-2/5 leading-tight\"]')"
   ]
  },
  {
   "cell_type": "markdown",
   "id": "84a74e10",
   "metadata": {},
   "source": [
    "Usamos RegEx para separar marcadores, ya que no se encontró un patron en los tags para obtenerlos por separado "
   ]
  },
  {
   "cell_type": "code",
   "execution_count": 8,
   "id": "d3f2d8a0",
   "metadata": {},
   "outputs": [
    {
     "name": "stdout",
     "output_type": "stream",
     "text": [
      "1281\n"
     ]
    }
   ],
   "source": [
    "print(len(partidos))\n",
    "re_partidos = list()\n",
    "for partido in partidos:\n",
    "    re_partidos.append(re.split(r'(?=\\d{1,})(?<!1)|(?=[A-Za-z])(?<=\\d)', partido.text_content()))"
   ]
  },
  {
   "cell_type": "code",
   "execution_count": 9,
   "id": "77e0efae",
   "metadata": {},
   "outputs": [],
   "source": [
    "goles = tree.xpath('//div[contains(@title, \"Goals\")]')"
   ]
  },
  {
   "cell_type": "code",
   "execution_count": 10,
   "id": "5fccb7d9",
   "metadata": {},
   "outputs": [],
   "source": [
    "asistencias = tree.xpath('//div[contains(@title, \"Assists\")]')"
   ]
  },
  {
   "cell_type": "code",
   "execution_count": 11,
   "id": "641c1aaf",
   "metadata": {},
   "outputs": [],
   "source": [
    "minutos_jugados = tree.xpath('//span[contains(@title, \"minutes\")]')"
   ]
  },
  {
   "cell_type": "markdown",
   "id": "8e3f00ff",
   "metadata": {},
   "source": [
    "### Creamos un array de Goles de la clase Goal"
   ]
  },
  {
   "cell_type": "code",
   "execution_count": 12,
   "id": "5da8e126",
   "metadata": {},
   "outputs": [],
   "source": [
    "goals = list()\n",
    "for i in range(len(fechas)):\n",
    "    goals.append(Goal(fechas[i].text_content(),\n",
    "                    competicion = competiciones[i].text_content(),\n",
    "                    visita_local = visita_local[i].text_content().replace(')','').replace('(',''),\n",
    "                    equipo_local = re_partidos[i][0],\n",
    "                    equipo_visitante = re_partidos[i][2],\n",
    "                    marcador_local = re_partidos[i][1],\n",
    "                    marcador_visitante = re_partidos[i][3],\n",
    "                    goles_anotados = goles[i].text_content(),\n",
    "                    asistencias = asistencias[i].text_content(),\n",
    "                    minutos_jugados = minutos_jugados[i].text_content()))"
   ]
  },
  {
   "cell_type": "markdown",
   "id": "b7930e06",
   "metadata": {},
   "source": [
    "### Creamos DataFrame de Pandas"
   ]
  },
  {
   "cell_type": "code",
   "execution_count": 13,
   "id": "26475609",
   "metadata": {},
   "outputs": [],
   "source": [
    "goles = [goal.to_dict() for goal in goals]"
   ]
  },
  {
   "cell_type": "code",
   "execution_count": 14,
   "id": "beafb720",
   "metadata": {},
   "outputs": [],
   "source": [
    "goles_df = pd.DataFrame(goles)"
   ]
  },
  {
   "cell_type": "code",
   "execution_count": 15,
   "id": "f87662d3",
   "metadata": {},
   "outputs": [
    {
     "data": {
      "application/vnd.microsoft.datawrangler.viewer.v0+json": {
       "columns": [
        {
         "name": "index",
         "rawType": "int64",
         "type": "integer"
        },
        {
         "name": "dia",
         "rawType": "object",
         "type": "string"
        },
        {
         "name": "competicion",
         "rawType": "object",
         "type": "string"
        },
        {
         "name": "visita_local",
         "rawType": "object",
         "type": "string"
        },
        {
         "name": "equipo_local",
         "rawType": "object",
         "type": "string"
        },
        {
         "name": "equipo_visitante",
         "rawType": "object",
         "type": "string"
        },
        {
         "name": "marcador_local",
         "rawType": "object",
         "type": "string"
        },
        {
         "name": "marcador_visitante",
         "rawType": "object",
         "type": "string"
        },
        {
         "name": "goles_anotados",
         "rawType": "object",
         "type": "string"
        },
        {
         "name": "asistencias",
         "rawType": "object",
         "type": "string"
        },
        {
         "name": "minutos_jugados",
         "rawType": "object",
         "type": "string"
        }
       ],
       "ref": "d4719471-66a0-4069-849c-98d3e4fd58c4",
       "rows": [
        [
         "0",
         "08/06/2025",
         "Nations League",
         "N",
         "Portugal",
         "Spain",
         "2",
         "2",
         "1",
         "0",
         "88' mins played"
        ],
        [
         "1",
         "04/06/2025",
         "Nations League",
         "A",
         "Germany",
         "Portugal",
         "1",
         "2",
         "1",
         "0",
         "89' mins played"
        ],
        [
         "2",
         "26/05/2025",
         "Saudi Pro League",
         "A",
         "Al Fateh",
         "Al Nassr",
         "3",
         "2",
         "1",
         "0",
         "90' mins played"
        ],
        [
         "3",
         "21/05/2025",
         "Saudi Pro League",
         "H",
         "Al Nassr",
         "Al-Khaleej",
         "2",
         "0",
         "1",
         "0",
         "90' mins played"
        ],
        [
         "4",
         "07/05/2025",
         "Saudi Pro League",
         "H",
         "Al Nassr",
         "Al-Ittihad",
         "2",
         "3",
         "0",
         "0",
         "90' mins played"
        ]
       ],
       "shape": {
        "columns": 10,
        "rows": 5
       }
      },
      "text/html": [
       "<div>\n",
       "<style scoped>\n",
       "    .dataframe tbody tr th:only-of-type {\n",
       "        vertical-align: middle;\n",
       "    }\n",
       "\n",
       "    .dataframe tbody tr th {\n",
       "        vertical-align: top;\n",
       "    }\n",
       "\n",
       "    .dataframe thead th {\n",
       "        text-align: right;\n",
       "    }\n",
       "</style>\n",
       "<table border=\"1\" class=\"dataframe\">\n",
       "  <thead>\n",
       "    <tr style=\"text-align: right;\">\n",
       "      <th></th>\n",
       "      <th>dia</th>\n",
       "      <th>competicion</th>\n",
       "      <th>visita_local</th>\n",
       "      <th>equipo_local</th>\n",
       "      <th>equipo_visitante</th>\n",
       "      <th>marcador_local</th>\n",
       "      <th>marcador_visitante</th>\n",
       "      <th>goles_anotados</th>\n",
       "      <th>asistencias</th>\n",
       "      <th>minutos_jugados</th>\n",
       "    </tr>\n",
       "  </thead>\n",
       "  <tbody>\n",
       "    <tr>\n",
       "      <th>0</th>\n",
       "      <td>08/06/2025</td>\n",
       "      <td>Nations League</td>\n",
       "      <td>N</td>\n",
       "      <td>Portugal</td>\n",
       "      <td>Spain</td>\n",
       "      <td>2</td>\n",
       "      <td>2</td>\n",
       "      <td>1</td>\n",
       "      <td>0</td>\n",
       "      <td>88' mins played</td>\n",
       "    </tr>\n",
       "    <tr>\n",
       "      <th>1</th>\n",
       "      <td>04/06/2025</td>\n",
       "      <td>Nations League</td>\n",
       "      <td>A</td>\n",
       "      <td>Germany</td>\n",
       "      <td>Portugal</td>\n",
       "      <td>1</td>\n",
       "      <td>2</td>\n",
       "      <td>1</td>\n",
       "      <td>0</td>\n",
       "      <td>89' mins played</td>\n",
       "    </tr>\n",
       "    <tr>\n",
       "      <th>2</th>\n",
       "      <td>26/05/2025</td>\n",
       "      <td>Saudi Pro League</td>\n",
       "      <td>A</td>\n",
       "      <td>Al Fateh</td>\n",
       "      <td>Al Nassr</td>\n",
       "      <td>3</td>\n",
       "      <td>2</td>\n",
       "      <td>1</td>\n",
       "      <td>0</td>\n",
       "      <td>90' mins played</td>\n",
       "    </tr>\n",
       "    <tr>\n",
       "      <th>3</th>\n",
       "      <td>21/05/2025</td>\n",
       "      <td>Saudi Pro League</td>\n",
       "      <td>H</td>\n",
       "      <td>Al Nassr</td>\n",
       "      <td>Al-Khaleej</td>\n",
       "      <td>2</td>\n",
       "      <td>0</td>\n",
       "      <td>1</td>\n",
       "      <td>0</td>\n",
       "      <td>90' mins played</td>\n",
       "    </tr>\n",
       "    <tr>\n",
       "      <th>4</th>\n",
       "      <td>07/05/2025</td>\n",
       "      <td>Saudi Pro League</td>\n",
       "      <td>H</td>\n",
       "      <td>Al Nassr</td>\n",
       "      <td>Al-Ittihad</td>\n",
       "      <td>2</td>\n",
       "      <td>3</td>\n",
       "      <td>0</td>\n",
       "      <td>0</td>\n",
       "      <td>90' mins played</td>\n",
       "    </tr>\n",
       "  </tbody>\n",
       "</table>\n",
       "</div>"
      ],
      "text/plain": [
       "          dia       competicion visita_local equipo_local equipo_visitante  \\\n",
       "0  08/06/2025    Nations League            N     Portugal            Spain   \n",
       "1  04/06/2025    Nations League            A      Germany         Portugal   \n",
       "2  26/05/2025  Saudi Pro League            A     Al Fateh         Al Nassr   \n",
       "3  21/05/2025  Saudi Pro League            H     Al Nassr       Al-Khaleej   \n",
       "4  07/05/2025  Saudi Pro League            H     Al Nassr       Al-Ittihad   \n",
       "\n",
       "  marcador_local marcador_visitante goles_anotados asistencias  \\\n",
       "0              2                  2              1           0   \n",
       "1              1                  2              1           0   \n",
       "2              3                  2              1           0   \n",
       "3              2                  0              1           0   \n",
       "4              2                  3              0           0   \n",
       "\n",
       "   minutos_jugados  \n",
       "0  88' mins played  \n",
       "1  89' mins played  \n",
       "2  90' mins played  \n",
       "3  90' mins played  \n",
       "4  90' mins played  "
      ]
     },
     "execution_count": 15,
     "metadata": {},
     "output_type": "execute_result"
    }
   ],
   "source": [
    "goles_df.head(5)"
   ]
  },
  {
   "cell_type": "code",
   "execution_count": 16,
   "id": "794284f6",
   "metadata": {},
   "outputs": [
    {
     "data": {
      "application/vnd.microsoft.datawrangler.viewer.v0+json": {
       "columns": [
        {
         "name": "equipo_local",
         "rawType": "object",
         "type": "string"
        },
        {
         "name": "equipo_local",
         "rawType": "int64",
         "type": "integer"
        }
       ],
       "ref": "ca986137-a226-4756-958e-8d808fb5c1dc",
       "rows": [
        [
         "Al Nassr",
         "11"
        ],
        [
         "Juventus",
         "5"
        ],
        [
         "Manchester United",
         "13"
        ],
        [
         "Portugal",
         "57"
        ],
        [
         "Real Madrid",
         "13"
        ]
       ],
       "shape": {
        "columns": 1,
        "rows": 5
       }
      },
      "text/plain": [
       "equipo_local\n",
       "Al Nassr             11\n",
       "Juventus              5\n",
       "Manchester United    13\n",
       "Portugal             57\n",
       "Real Madrid          13\n",
       "Name: equipo_local, dtype: int64"
      ]
     },
     "execution_count": 16,
     "metadata": {},
     "output_type": "execute_result"
    }
   ],
   "source": [
    "goles_df[goles_df['visita_local'] == 'N'].groupby('equipo_local')['equipo_local'].count()"
   ]
  },
  {
   "cell_type": "code",
   "execution_count": 17,
   "id": "d8f16f02",
   "metadata": {},
   "outputs": [],
   "source": [
    "goles_df['minutos_jugados'] = goles_df['minutos_jugados'].str.extract(r'(\\d+)')"
   ]
  },
  {
   "cell_type": "code",
   "execution_count": 18,
   "id": "4f8869eb",
   "metadata": {},
   "outputs": [],
   "source": [
    "goles_df['marcador_local'] = goles_df['marcador_local'].astype(int)\n",
    "goles_df['marcador_visitante'] = goles_df['marcador_visitante'].astype(int)\n",
    "goles_df['goles_anotados'] = goles_df['goles_anotados'].astype(int)\n",
    "goles_df['asistencias'] = goles_df['asistencias'].astype(int)\n",
    "goles_df['minutos_jugados'] = goles_df['minutos_jugados'].astype(int)\n",
    "# goles_df['dia'] = pd.to_datetime(goles_df['dia'])"
   ]
  },
  {
   "cell_type": "code",
   "execution_count": 19,
   "id": "57c125ab",
   "metadata": {},
   "outputs": [
    {
     "data": {
      "application/vnd.microsoft.datawrangler.viewer.v0+json": {
       "columns": [
        {
         "name": "index",
         "rawType": "int64",
         "type": "integer"
        },
        {
         "name": "dia",
         "rawType": "object",
         "type": "string"
        },
        {
         "name": "competicion",
         "rawType": "object",
         "type": "string"
        },
        {
         "name": "visita_local",
         "rawType": "object",
         "type": "string"
        },
        {
         "name": "equipo_local",
         "rawType": "object",
         "type": "string"
        },
        {
         "name": "equipo_visitante",
         "rawType": "object",
         "type": "string"
        },
        {
         "name": "marcador_local",
         "rawType": "int64",
         "type": "integer"
        },
        {
         "name": "marcador_visitante",
         "rawType": "int64",
         "type": "integer"
        },
        {
         "name": "goles_anotados",
         "rawType": "int64",
         "type": "integer"
        },
        {
         "name": "asistencias",
         "rawType": "int64",
         "type": "integer"
        },
        {
         "name": "minutos_jugados",
         "rawType": "int64",
         "type": "integer"
        }
       ],
       "ref": "ac94e32f-d9ce-4475-bac3-1259eb88b06c",
       "rows": [
        [
         "0",
         "08/06/2025",
         "Nations League",
         "N",
         "Portugal",
         "Spain",
         "2",
         "2",
         "1",
         "0",
         "88"
        ],
        [
         "1",
         "04/06/2025",
         "Nations League",
         "A",
         "Germany",
         "Portugal",
         "1",
         "2",
         "1",
         "0",
         "89"
        ],
        [
         "2",
         "26/05/2025",
         "Saudi Pro League",
         "A",
         "Al Fateh",
         "Al Nassr",
         "3",
         "2",
         "1",
         "0",
         "90"
        ],
        [
         "3",
         "21/05/2025",
         "Saudi Pro League",
         "H",
         "Al Nassr",
         "Al-Khaleej",
         "2",
         "0",
         "1",
         "0",
         "90"
        ],
        [
         "4",
         "07/05/2025",
         "Saudi Pro League",
         "H",
         "Al Nassr",
         "Al-Ittihad",
         "2",
         "3",
         "0",
         "0",
         "90"
        ]
       ],
       "shape": {
        "columns": 10,
        "rows": 5
       }
      },
      "text/html": [
       "<div>\n",
       "<style scoped>\n",
       "    .dataframe tbody tr th:only-of-type {\n",
       "        vertical-align: middle;\n",
       "    }\n",
       "\n",
       "    .dataframe tbody tr th {\n",
       "        vertical-align: top;\n",
       "    }\n",
       "\n",
       "    .dataframe thead th {\n",
       "        text-align: right;\n",
       "    }\n",
       "</style>\n",
       "<table border=\"1\" class=\"dataframe\">\n",
       "  <thead>\n",
       "    <tr style=\"text-align: right;\">\n",
       "      <th></th>\n",
       "      <th>dia</th>\n",
       "      <th>competicion</th>\n",
       "      <th>visita_local</th>\n",
       "      <th>equipo_local</th>\n",
       "      <th>equipo_visitante</th>\n",
       "      <th>marcador_local</th>\n",
       "      <th>marcador_visitante</th>\n",
       "      <th>goles_anotados</th>\n",
       "      <th>asistencias</th>\n",
       "      <th>minutos_jugados</th>\n",
       "    </tr>\n",
       "  </thead>\n",
       "  <tbody>\n",
       "    <tr>\n",
       "      <th>0</th>\n",
       "      <td>08/06/2025</td>\n",
       "      <td>Nations League</td>\n",
       "      <td>N</td>\n",
       "      <td>Portugal</td>\n",
       "      <td>Spain</td>\n",
       "      <td>2</td>\n",
       "      <td>2</td>\n",
       "      <td>1</td>\n",
       "      <td>0</td>\n",
       "      <td>88</td>\n",
       "    </tr>\n",
       "    <tr>\n",
       "      <th>1</th>\n",
       "      <td>04/06/2025</td>\n",
       "      <td>Nations League</td>\n",
       "      <td>A</td>\n",
       "      <td>Germany</td>\n",
       "      <td>Portugal</td>\n",
       "      <td>1</td>\n",
       "      <td>2</td>\n",
       "      <td>1</td>\n",
       "      <td>0</td>\n",
       "      <td>89</td>\n",
       "    </tr>\n",
       "    <tr>\n",
       "      <th>2</th>\n",
       "      <td>26/05/2025</td>\n",
       "      <td>Saudi Pro League</td>\n",
       "      <td>A</td>\n",
       "      <td>Al Fateh</td>\n",
       "      <td>Al Nassr</td>\n",
       "      <td>3</td>\n",
       "      <td>2</td>\n",
       "      <td>1</td>\n",
       "      <td>0</td>\n",
       "      <td>90</td>\n",
       "    </tr>\n",
       "    <tr>\n",
       "      <th>3</th>\n",
       "      <td>21/05/2025</td>\n",
       "      <td>Saudi Pro League</td>\n",
       "      <td>H</td>\n",
       "      <td>Al Nassr</td>\n",
       "      <td>Al-Khaleej</td>\n",
       "      <td>2</td>\n",
       "      <td>0</td>\n",
       "      <td>1</td>\n",
       "      <td>0</td>\n",
       "      <td>90</td>\n",
       "    </tr>\n",
       "    <tr>\n",
       "      <th>4</th>\n",
       "      <td>07/05/2025</td>\n",
       "      <td>Saudi Pro League</td>\n",
       "      <td>H</td>\n",
       "      <td>Al Nassr</td>\n",
       "      <td>Al-Ittihad</td>\n",
       "      <td>2</td>\n",
       "      <td>3</td>\n",
       "      <td>0</td>\n",
       "      <td>0</td>\n",
       "      <td>90</td>\n",
       "    </tr>\n",
       "  </tbody>\n",
       "</table>\n",
       "</div>"
      ],
      "text/plain": [
       "          dia       competicion visita_local equipo_local equipo_visitante  \\\n",
       "0  08/06/2025    Nations League            N     Portugal            Spain   \n",
       "1  04/06/2025    Nations League            A      Germany         Portugal   \n",
       "2  26/05/2025  Saudi Pro League            A     Al Fateh         Al Nassr   \n",
       "3  21/05/2025  Saudi Pro League            H     Al Nassr       Al-Khaleej   \n",
       "4  07/05/2025  Saudi Pro League            H     Al Nassr       Al-Ittihad   \n",
       "\n",
       "   marcador_local  marcador_visitante  goles_anotados  asistencias  \\\n",
       "0               2                   2               1            0   \n",
       "1               1                   2               1            0   \n",
       "2               3                   2               1            0   \n",
       "3               2                   0               1            0   \n",
       "4               2                   3               0            0   \n",
       "\n",
       "   minutos_jugados  \n",
       "0               88  \n",
       "1               89  \n",
       "2               90  \n",
       "3               90  \n",
       "4               90  "
      ]
     },
     "execution_count": 19,
     "metadata": {},
     "output_type": "execute_result"
    }
   ],
   "source": [
    "goles_df.head(5)"
   ]
  },
  {
   "cell_type": "code",
   "execution_count": 20,
   "id": "b158202f",
   "metadata": {},
   "outputs": [],
   "source": [
    "goles_df.to_csv('./data/cr7Matches.csv')"
   ]
  }
 ],
 "metadata": {
  "kernelspec": {
   "display_name": ".venv",
   "language": "python",
   "name": "python3"
  },
  "language_info": {
   "codemirror_mode": {
    "name": "ipython",
    "version": 3
   },
   "file_extension": ".py",
   "mimetype": "text/x-python",
   "name": "python",
   "nbconvert_exporter": "python",
   "pygments_lexer": "ipython3",
   "version": "3.12.10"
  }
 },
 "nbformat": 4,
 "nbformat_minor": 5
}
